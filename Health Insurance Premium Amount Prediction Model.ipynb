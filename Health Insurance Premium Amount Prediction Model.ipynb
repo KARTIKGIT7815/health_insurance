{
 "cells": [
  {
   "cell_type": "markdown",
   "id": "afea0dd7-7c4a-4206-bca4-b52ab11a5a0d",
   "metadata": {},
   "source": [
    "# Health Insurance Premium Amount Prediction Model"
   ]
  },
  {
   "cell_type": "code",
   "execution_count": 2,
   "id": "e423c669-526c-4f53-8a65-1cd9675fd590",
   "metadata": {},
   "outputs": [],
   "source": [
    "import pandas as pd\n",
    "import seaborn as sb\n",
    "import matplotlib.pyplot as plt\n",
    "import warnings as w"
   ]
  },
  {
   "cell_type": "code",
   "execution_count": 3,
   "id": "6900851e-277d-42d1-a6f7-e7aee988c129",
   "metadata": {},
   "outputs": [],
   "source": [
    "w.filterwarnings('ignore')"
   ]
  },
  {
   "cell_type": "code",
   "execution_count": 4,
   "id": "f8e5baaa-03e3-43f0-b472-7d05c818875b",
   "metadata": {},
   "outputs": [
    {
     "data": {
      "text/html": [
       "<div>\n",
       "<style scoped>\n",
       "    .dataframe tbody tr th:only-of-type {\n",
       "        vertical-align: middle;\n",
       "    }\n",
       "\n",
       "    .dataframe tbody tr th {\n",
       "        vertical-align: top;\n",
       "    }\n",
       "\n",
       "    .dataframe thead th {\n",
       "        text-align: right;\n",
       "    }\n",
       "</style>\n",
       "<table border=\"1\" class=\"dataframe\">\n",
       "  <thead>\n",
       "    <tr style=\"text-align: right;\">\n",
       "      <th></th>\n",
       "      <th>age</th>\n",
       "      <th>sex</th>\n",
       "      <th>bmi</th>\n",
       "      <th>children</th>\n",
       "      <th>smoker</th>\n",
       "      <th>region</th>\n",
       "      <th>charges</th>\n",
       "    </tr>\n",
       "  </thead>\n",
       "  <tbody>\n",
       "    <tr>\n",
       "      <th>0</th>\n",
       "      <td>19</td>\n",
       "      <td>female</td>\n",
       "      <td>27.90</td>\n",
       "      <td>0</td>\n",
       "      <td>yes</td>\n",
       "      <td>southwest</td>\n",
       "      <td>16884.9240</td>\n",
       "    </tr>\n",
       "    <tr>\n",
       "      <th>1</th>\n",
       "      <td>18</td>\n",
       "      <td>male</td>\n",
       "      <td>33.77</td>\n",
       "      <td>1</td>\n",
       "      <td>no</td>\n",
       "      <td>southeast</td>\n",
       "      <td>1725.5523</td>\n",
       "    </tr>\n",
       "  </tbody>\n",
       "</table>\n",
       "</div>"
      ],
      "text/plain": [
       "   age     sex    bmi  children smoker     region     charges\n",
       "0   19  female  27.90         0    yes  southwest  16884.9240\n",
       "1   18    male  33.77         1     no  southeast   1725.5523"
      ]
     },
     "execution_count": 4,
     "metadata": {},
     "output_type": "execute_result"
    }
   ],
   "source": [
    "df = pd.read_csv('../../../datasets/Internship_datasets/Health_Insurance/Health_insurance.csv')\n",
    "df.head(2)"
   ]
  },
  {
   "cell_type": "code",
   "execution_count": 5,
   "id": "400427b4-c663-4086-b586-71c18b587700",
   "metadata": {},
   "outputs": [
    {
     "data": {
      "text/plain": [
       "(1338, 7)"
      ]
     },
     "execution_count": 5,
     "metadata": {},
     "output_type": "execute_result"
    }
   ],
   "source": [
    "df.shape"
   ]
  },
  {
   "cell_type": "markdown",
   "id": "6c3e7780-4dda-406e-aa01-c08661173b19",
   "metadata": {},
   "source": [
    "# Handling Missing Values"
   ]
  },
  {
   "cell_type": "code",
   "execution_count": 7,
   "id": "ab72ea12-6501-4204-ad5d-89d820ac2163",
   "metadata": {},
   "outputs": [
    {
     "data": {
      "text/plain": [
       "age         0\n",
       "sex         0\n",
       "bmi         0\n",
       "children    0\n",
       "smoker      0\n",
       "region      0\n",
       "charges     0\n",
       "dtype: int64"
      ]
     },
     "execution_count": 7,
     "metadata": {},
     "output_type": "execute_result"
    }
   ],
   "source": [
    "df.isna().sum()"
   ]
  },
  {
   "cell_type": "code",
   "execution_count": 8,
   "id": "c0644785-e515-47c9-a55a-0bd354af8015",
   "metadata": {},
   "outputs": [
    {
     "name": "stdout",
     "output_type": "stream",
     "text": [
      "<class 'pandas.core.frame.DataFrame'>\n",
      "RangeIndex: 1338 entries, 0 to 1337\n",
      "Data columns (total 7 columns):\n",
      " #   Column    Non-Null Count  Dtype  \n",
      "---  ------    --------------  -----  \n",
      " 0   age       1338 non-null   int64  \n",
      " 1   sex       1338 non-null   object \n",
      " 2   bmi       1338 non-null   float64\n",
      " 3   children  1338 non-null   int64  \n",
      " 4   smoker    1338 non-null   object \n",
      " 5   region    1338 non-null   object \n",
      " 6   charges   1338 non-null   float64\n",
      "dtypes: float64(2), int64(2), object(3)\n",
      "memory usage: 73.3+ KB\n"
     ]
    }
   ],
   "source": [
    "df.info()"
   ]
  },
  {
   "cell_type": "markdown",
   "id": "5ad2c8a7-8f0a-45b7-aa3d-bb94c77f5a2f",
   "metadata": {},
   "source": [
    "# Handling Duplicate Values"
   ]
  },
  {
   "cell_type": "code",
   "execution_count": 10,
   "id": "866dbf39-ba3d-48f0-836d-86b4d245fb3b",
   "metadata": {},
   "outputs": [
    {
     "data": {
      "text/plain": [
       "1"
      ]
     },
     "execution_count": 10,
     "metadata": {},
     "output_type": "execute_result"
    }
   ],
   "source": [
    "df.duplicated().sum()"
   ]
  },
  {
   "cell_type": "code",
   "execution_count": 11,
   "id": "5474b683-7504-495b-a152-8ae85956f746",
   "metadata": {},
   "outputs": [],
   "source": [
    "df.drop_duplicates(keep='first',inplace=True)"
   ]
  },
  {
   "cell_type": "code",
   "execution_count": 12,
   "id": "a604d781-4e1e-455b-874f-8e65f2c330ec",
   "metadata": {},
   "outputs": [
    {
     "data": {
      "text/plain": [
       "0"
      ]
     },
     "execution_count": 12,
     "metadata": {},
     "output_type": "execute_result"
    }
   ],
   "source": [
    "df.duplicated().sum()"
   ]
  },
  {
   "cell_type": "markdown",
   "id": "5d8fbc08-469e-4de7-bb3c-de47dcfcbace",
   "metadata": {},
   "source": [
    "# Handling Outliers"
   ]
  },
  {
   "cell_type": "code",
   "execution_count": 14,
   "id": "5c62512e-2007-4dd2-b013-3e0da2de07f5",
   "metadata": {},
   "outputs": [
    {
     "data": {
      "text/plain": [
       "(array([535., 398., 129.,  86.,  35.,  59.,  57.,  32.,   2.,   4.]),\n",
       " array([ 1121.8739  ,  7386.729311, 13651.584722, 19916.440133,\n",
       "        26181.295544, 32446.150955, 38711.006366, 44975.861777,\n",
       "        51240.717188, 57505.572599, 63770.42801 ]),\n",
       " <BarContainer object of 10 artists>)"
      ]
     },
     "execution_count": 14,
     "metadata": {},
     "output_type": "execute_result"
    },
    {
     "data": {
      "image/png": "[encoded data removed]",
      "text/plain": [
       "<Figure size 640x480 with 1 Axes>"
      ]
     },
     "metadata": {},
     "output_type": "display_data"
    }
   ],
   "source": [
    "plt.hist(df['charges'])"
   ]
  },
  {
   "cell_type": "code",
   "execution_count": 15,
   "id": "c86a420b-a285-4c97-81a8-2176ec538581",
   "metadata": {},
   "outputs": [
    {
     "data": {
      "text/plain": [
       "(1337, 7)"
      ]
     },
     "execution_count": 15,
     "metadata": {},
     "output_type": "execute_result"
    }
   ],
   "source": [
    "df.shape"
   ]
  },
  {
   "cell_type": "code",
   "execution_count": 16,
   "id": "4103a725-40dd-49ba-bdb4-ab796016e6ca",
   "metadata": {},
   "outputs": [],
   "source": [
    "df = df[df['charges']<50000]"
   ]
  },
  {
   "cell_type": "code",
   "execution_count": 17,
   "id": "e005d908-3855-4527-b258-6c16584e1420",
   "metadata": {},
   "outputs": [
    {
     "data": {
      "text/plain": [
       "(1330, 7)"
      ]
     },
     "execution_count": 17,
     "metadata": {},
     "output_type": "execute_result"
    }
   ],
   "source": [
    "df.shape"
   ]
  },
  {
   "cell_type": "markdown",
   "id": "50c00a74-ab28-4328-b4a1-65664a372310",
   "metadata": {},
   "source": [
    "# Train Test Split"
   ]
  },
  {
   "cell_type": "code",
   "execution_count": 19,
   "id": "352f1808-905c-4b2e-8273-c6dbb6aa5343",
   "metadata": {},
   "outputs": [
    {
     "data": {
      "text/plain": [
       "Index(['age', 'sex', 'bmi', 'children', 'smoker', 'region', 'charges'], dtype='object')"
      ]
     },
     "execution_count": 19,
     "metadata": {},
     "output_type": "execute_result"
    }
   ],
   "source": [
    "df.columns"
   ]
  },
  {
   "cell_type": "code",
   "execution_count": 20,
   "id": "c66fd958-77ae-4bc4-97bf-7a0f9447498a",
   "metadata": {},
   "outputs": [],
   "source": [
    "X = df[df.columns.drop('charges')]\n",
    "y = df['charges']"
   ]
  },
  {
   "cell_type": "code",
   "execution_count": 21,
   "id": "7de17dca-d143-4118-aeee-fd52f380a41c",
   "metadata": {},
   "outputs": [],
   "source": [
    "from sklearn.model_selection import train_test_split"
   ]
  },
  {
   "cell_type": "code",
   "execution_count": 22,
   "id": "88181bae-4a11-4371-82d7-e3a19eb16191",
   "metadata": {},
   "outputs": [],
   "source": [
    "X_train,X_test,y_train,y_test = train_test_split(X,y,test_size=0.10,random_state=1)"
   ]
  },
  {
   "cell_type": "code",
   "execution_count": 23,
   "id": "acd3d2e3-b115-49e1-947d-abf9a1446a2c",
   "metadata": {},
   "outputs": [],
   "source": [
    "df_train = pd.concat([pd.DataFrame(X_train),pd.DataFrame(y_train)], axis=1)"
   ]
  },
  {
   "cell_type": "code",
   "execution_count": 24,
   "id": "2db6233e-6efc-45e0-bbad-5734134130a8",
   "metadata": {},
   "outputs": [],
   "source": [
    "df_test = pd.concat([pd.DataFrame(X_test),pd.DataFrame(y_test)], axis=1)"
   ]
  },
  {
   "cell_type": "markdown",
   "id": "83ccad0b-913e-4cb8-a10b-a33f1b941d20",
   "metadata": {},
   "source": [
    "# Category & Numeric Columns"
   ]
  },
  {
   "cell_type": "code",
   "execution_count": 26,
   "id": "74b119f8-c73e-40e1-8e15-6a4d28ea5bec",
   "metadata": {},
   "outputs": [],
   "source": [
    "cat_col = list(df_test.select_dtypes(include='object'))"
   ]
  },
  {
   "cell_type": "code",
   "execution_count": 27,
   "id": "2a192e7a-3561-4e31-8ddb-8dc5eb26f2f1",
   "metadata": {},
   "outputs": [],
   "source": [
    "num_col = list(df_test.select_dtypes(exclude='object').drop(columns='charges').columns)"
   ]
  },
  {
   "cell_type": "code",
   "execution_count": 28,
   "id": "79284845-692b-43e4-9f72-d4d1628d9bc5",
   "metadata": {},
   "outputs": [
    {
     "data": {
      "text/plain": [
       "['age', 'bmi', 'children']"
      ]
     },
     "execution_count": 28,
     "metadata": {},
     "output_type": "execute_result"
    }
   ],
   "source": [
    "num_col"
   ]
  },
  {
   "cell_type": "markdown",
   "id": "a0a337ba-4431-4467-83c5-35f31b37431b",
   "metadata": {},
   "source": [
    "# Encoding"
   ]
  },
  {
   "cell_type": "code",
   "execution_count": 30,
   "id": "4f848e20-67af-4fc5-8355-d49a155e903c",
   "metadata": {},
   "outputs": [],
   "source": [
    "from sklearn.preprocessing import OneHotEncoder"
   ]
  },
  {
   "cell_type": "code",
   "execution_count": 31,
   "id": "95754450-25b3-4761-8ccf-161dc732a420",
   "metadata": {},
   "outputs": [],
   "source": [
    "encoder = OneHotEncoder(sparse_output=False,handle_unknown='ignore')\n",
    "encoder.fit(df_train[cat_col])\n",
    "enc_col = list(encoder.get_feature_names_out())\n",
    "df_train[enc_col] = encoder.transform(df_train[cat_col])"
   ]
  },
  {
   "cell_type": "markdown",
   "id": "bb29ea90-9c83-4884-b0e2-552299a053cb",
   "metadata": {},
   "source": [
    "# Scaling"
   ]
  },
  {
   "cell_type": "code",
   "execution_count": 33,
   "id": "3e1764c1-970d-4a60-b2ab-66a7b978c109",
   "metadata": {},
   "outputs": [],
   "source": [
    "from sklearn.preprocessing import MinMaxScaler"
   ]
  },
  {
   "cell_type": "code",
   "execution_count": 34,
   "id": "ae7e65e6-cc7b-4dff-97d7-559908ba3b84",
   "metadata": {},
   "outputs": [],
   "source": [
    "scaler = MinMaxScaler()\n",
    "scaler.fit(df_train[num_col])\n",
    "df_train[num_col] = scaler.transform(df_train[num_col])"
   ]
  },
  {
   "cell_type": "markdown",
   "id": "c78584f1-135d-4179-b8b5-8b356ad94dc5",
   "metadata": {},
   "source": [
    "# Selected Data Columns"
   ]
  },
  {
   "cell_type": "code",
   "execution_count": 36,
   "id": "fe0935d0-6ae1-4847-93ac-7089af126274",
   "metadata": {},
   "outputs": [],
   "source": [
    "sel_col = enc_col + num_col"
   ]
  },
  {
   "cell_type": "markdown",
   "id": "da5eacdd-be84-4cfe-82ea-6f4f113ee8dc",
   "metadata": {},
   "source": [
    "# Test Data"
   ]
  },
  {
   "cell_type": "code",
   "execution_count": 38,
   "id": "d5438fef-b9d6-478f-8cb9-7f036ac515d5",
   "metadata": {},
   "outputs": [],
   "source": [
    "df_test[enc_col] = encoder.transform(df_test[cat_col])"
   ]
  },
  {
   "cell_type": "code",
   "execution_count": 39,
   "id": "d33442da-4a6b-4f90-b1c5-6ccc7713909f",
   "metadata": {},
   "outputs": [],
   "source": [
    "df_test[num_col] = scaler.transform(df_test[num_col])"
   ]
  },
  {
   "cell_type": "markdown",
   "id": "8aa86b24-de76-47e6-93d2-d15a66c78c09",
   "metadata": {},
   "source": [
    "# X & y for Training"
   ]
  },
  {
   "cell_type": "code",
   "execution_count": 41,
   "id": "1c486a8c-8048-4442-858a-23b158e098a5",
   "metadata": {},
   "outputs": [],
   "source": [
    "X_train_M = df_train[sel_col]\n",
    "y_train_M = df_train['charges']"
   ]
  },
  {
   "cell_type": "markdown",
   "id": "f6f83d20-1426-42bc-872f-6e3409a10a7c",
   "metadata": {},
   "source": [
    "# X & y for Testing"
   ]
  },
  {
   "cell_type": "code",
   "execution_count": 43,
   "id": "8d5595aa-19da-448a-b644-95eba215199c",
   "metadata": {},
   "outputs": [],
   "source": [
    "X_test_M = df_test[sel_col]\n",
    "y_test_M = df_test['charges']"
   ]
  },
  {
   "cell_type": "markdown",
   "id": "059911d0-c882-419e-9530-dc302d3c6b7a",
   "metadata": {},
   "source": [
    "# Model Building"
   ]
  },
  {
   "cell_type": "markdown",
   "id": "8efe30f2-5a37-4035-9afa-347ccc38c4ea",
   "metadata": {},
   "source": [
    "## Linear Regression "
   ]
  },
  {
   "cell_type": "code",
   "execution_count": 46,
   "id": "b91b3a4b-977e-4164-be10-accc4bedc916",
   "metadata": {},
   "outputs": [],
   "source": [
    "from sklearn.linear_model import LinearRegression"
   ]
  },
  {
   "cell_type": "code",
   "execution_count": 47,
   "id": "9d51e3e0-aa38-4db7-abf6-13d1f25f77b1",
   "metadata": {},
   "outputs": [
    {
     "name": "stdout",
     "output_type": "stream",
     "text": [
      "Training Score 0.7450577267419856 Testing Score 0.8088013541687484\n"
     ]
    }
   ],
   "source": [
    "model_lin = LinearRegression()\n",
    "model_lin.fit(X_train_M,y_train_M)\n",
    "print('Training Score',model_lin.score(X_train_M,y_train_M),'Testing Score',model_lin.score(X_test_M,y_test_M))"
   ]
  },
  {
   "cell_type": "markdown",
   "id": "9c835bd5-1850-480b-88c9-bb3ef706a2ae",
   "metadata": {},
   "source": [
    "## SVM"
   ]
  },
  {
   "cell_type": "code",
   "execution_count": 49,
   "id": "31e5d3f3-2baf-4084-b912-2dbcc9babc4a",
   "metadata": {},
   "outputs": [],
   "source": [
    "from sklearn.svm import SVR"
   ]
  },
  {
   "cell_type": "code",
   "execution_count": 50,
   "id": "e19832a8-16b2-4a42-adcd-b7be0ccbb30b",
   "metadata": {},
   "outputs": [
    {
     "name": "stdout",
     "output_type": "stream",
     "text": [
      "Training Score -0.06951737131849511 Testing Score -0.08324568267367294\n"
     ]
    }
   ],
   "source": [
    "model_svm = SVR(kernel='linear')\n",
    "model_svm.fit(X_train_M,y_train_M)\n",
    "print('Training Score',model_svm.score(X_train_M,y_train_M),'Testing Score',model_svm.score(X_test_M,y_test_M))"
   ]
  },
  {
   "cell_type": "markdown",
   "id": "7bfa49c1-c337-456b-952d-7cdf539cecc0",
   "metadata": {},
   "source": [
    "## Decision Tree"
   ]
  },
  {
   "cell_type": "code",
   "execution_count": 52,
   "id": "c883b2a4-83c4-44e5-813b-d64ebd239d68",
   "metadata": {},
   "outputs": [],
   "source": [
    "from sklearn.tree import DecisionTreeRegressor"
   ]
  },
  {
   "cell_type": "code",
   "execution_count": 53,
   "id": "6b0e8681-18ca-4a30-a77f-c49fb8f2202a",
   "metadata": {},
   "outputs": [
    {
     "name": "stdout",
     "output_type": "stream",
     "text": [
      "Training Score 0.8752116584145294 Testing Score 0.8969690829140885\n"
     ]
    }
   ],
   "source": [
    "model_DT = DecisionTreeRegressor(random_state=1, max_depth=5, min_samples_leaf=5, min_samples_split=2)\n",
    "model_DT.fit(X_train_M,y_train_M)\n",
    "print('Training Score',model_DT.score(X_train_M,y_train_M),'Testing Score',model_DT.score(X_test_M,y_test_M))"
   ]
  },
  {
   "cell_type": "markdown",
   "id": "bf86536b-8832-4864-9bf0-a362bbeb0055",
   "metadata": {},
   "source": [
    "## Random Forest"
   ]
  },
  {
   "cell_type": "code",
   "execution_count": 55,
   "id": "614fa430-462a-4f14-86e6-75d6b911c9de",
   "metadata": {},
   "outputs": [],
   "source": [
    "from sklearn.ensemble import RandomForestRegressor"
   ]
  },
  {
   "cell_type": "code",
   "execution_count": 56,
   "id": "d7108853-005d-499a-bcd1-c5f562bbb977",
   "metadata": {},
   "outputs": [
    {
     "name": "stdout",
     "output_type": "stream",
     "text": [
      "Training Score 0.9016577801046771 Testing Score 0.8907274790226097\n"
     ]
    }
   ],
   "source": [
    "model_DT = RandomForestRegressor(random_state=1, n_estimators=500, min_samples_split=5, min_samples_leaf=6, max_depth=20)\n",
    "model_DT.fit(X_train_M,y_train_M)\n",
    "print('Training Score',model_DT.score(X_train_M,y_train_M),'Testing Score',model_DT.score(X_test_M,y_test_M))"
   ]
  },
  {
   "cell_type": "code",
   "execution_count": 138,
   "id": "2fcc4526-87b2-43ed-8645-f5d588d22465",
   "metadata": {},
   "outputs": [],
   "source": [
    "from sklearn.ensemble import AdaBoostRegressor"
   ]
  },
  {
   "cell_type": "code",
   "execution_count": 164,
   "id": "288971e5-0676-4dca-afbb-da504b40019d",
   "metadata": {},
   "outputs": [
    {
     "name": "stdout",
     "output_type": "stream",
     "text": [
      "Training Score 0.9856067353004572 Testing Score 0.8837606513493964\n"
     ]
    }
   ],
   "source": [
    "model_AB = AdaBoostRegressor(estimator=DecisionTreeRegressor(random_state=1)\n",
    "                             ,n_estimators=1000,learning_rate=2.0,random_state=1)\n",
    "model_AB.fit(X_train_M,y_train_M)\n",
    "print('Training Score',model_AB.score(X_train_M,y_train_M),'Testing Score',model_AB.score(X_test_M,y_test_M))"
   ]
  },
  {
   "cell_type": "code",
   "execution_count": 148,
   "id": "fe5ac519-c4c5-4f89-978e-7619725302e4",
   "metadata": {},
   "outputs": [],
   "source": [
    "from sklearn.model_selection import GridSearchCV"
   ]
  },
  {
   "cell_type": "code",
   "execution_count": 150,
   "id": "8714af04-062f-4926-b208-823a5f97c4e7",
   "metadata": {},
   "outputs": [],
   "source": [
    "AB_grid = {\n",
    "    'n_estimators': [100, 200, 300, 400, 500, 600, 700, 800, 900, 1000, 1200, 1400],\n",
    "    'learning_rate': [1.0, 1.5, 2.0, 2.5, 3.0, 3.5, 4.0],\n",
    "}"
   ]
  },
  {
   "cell_type": "code",
   "execution_count": 162,
   "id": "283a8755-4573-4f88-920a-381b87b4696a",
   "metadata": {},
   "outputs": [
    {
     "data": {
      "text/plain": [
       "{'learning_rate': 2.0, 'n_estimators': 1000}"
      ]
     },
     "execution_count": 162,
     "metadata": {},
     "output_type": "execute_result"
    }
   ],
   "source": [
    "grid_AB = GridSearchCV(estimator=AdaBoostRegressor(estimator=DecisionTreeRegressor(random_state=1))\n",
    "                       ,param_grid=AB_grid,verbose=0,cv=5,n_jobs=-1)\n",
    "grid_AB.fit(X_train_M,y_train_M)\n",
    "grid_AB.best_params_"
   ]
  },
  {
   "cell_type": "markdown",
   "id": "14b3ba77-7d25-4391-99fb-95a592edf4d2",
   "metadata": {},
   "source": [
    "## XGB Boost"
   ]
  },
  {
   "cell_type": "code",
   "execution_count": 58,
   "id": "47c2d4b1-54e3-4d62-8907-a27f0d28a817",
   "metadata": {},
   "outputs": [
    {
     "data": {
      "text/plain": [
       "90.40066236335934"
      ]
     },
     "execution_count": 58,
     "metadata": {},
     "output_type": "execute_result"
    }
   ],
   "source": [
    "from xgboost import XGBRegressor\n",
    "\n",
    "model_xg = XGBRegressor(random_state = 1, subsample=0.8, n_estimators=400, max_depth=3, learning_rate=0.01)\n",
    "model_xg.fit(X_train_M, y_train_M)\n",
    "model_xg.score(X_test_M,y_test_M)*100"
   ]
  },
  {
   "cell_type": "markdown",
   "id": "04127d12-653d-4f26-a858-3d915a95a1cf",
   "metadata": {},
   "source": [
    "# Hyper Tunning"
   ]
  },
  {
   "cell_type": "code",
   "execution_count": 60,
   "id": "02758392-0c76-4f54-8ff9-d8bc425ceec3",
   "metadata": {},
   "outputs": [],
   "source": [
    "from sklearn.model_selection import GridSearchCV"
   ]
  },
  {
   "cell_type": "code",
   "execution_count": 61,
   "id": "efbf3cf1-42d8-45be-9794-68784c599ba0",
   "metadata": {},
   "outputs": [],
   "source": [
    "DT_grid = {\n",
    "    'max_depth': [2, 5, 10, 20, 30, 40, 50],\n",
    "    'min_samples_split': [2, 10, 20],\n",
    "    'min_samples_leaf': [1, 5, 10, 15, 20, 25, 30, 35, 40,],\n",
    "}"
   ]
  },
  {
   "cell_type": "code",
   "execution_count": 62,
   "id": "85470019-7652-4f1d-ae78-865d9a14705c",
   "metadata": {},
   "outputs": [
    {
     "data": {
      "text/plain": [
       "{'max_depth': 5, 'min_samples_leaf': 5, 'min_samples_split': 2}"
      ]
     },
     "execution_count": 62,
     "metadata": {},
     "output_type": "execute_result"
    }
   ],
   "source": [
    "grid_cv_DT = GridSearchCV(estimator=DecisionTreeRegressor(random_state=1),param_grid=DT_grid,verbose=0,cv=5,n_jobs=-1)\n",
    "grid_cv_DT.fit(X_train_M,y_train_M)\n",
    "grid_cv_DT.best_params_"
   ]
  },
  {
   "cell_type": "code",
   "execution_count": 63,
   "id": "324c7952-b10a-47cd-9ed3-4f7ff7b9f69b",
   "metadata": {},
   "outputs": [],
   "source": [
    "from sklearn.model_selection import RandomizedSearchCV"
   ]
  },
  {
   "cell_type": "code",
   "execution_count": 64,
   "id": "20211d45-85f3-48d4-83ec-69c3ff8b19c0",
   "metadata": {},
   "outputs": [],
   "source": [
    "RF_grid = {\n",
    "    'n_estimators': [100, 200, 300, 400, 500, 600, 700, 800, 900, 1000, 1200, 1400],\n",
    "    'max_depth': [2, 5, 10, 20, 30, 40, 50, 60, 70], \n",
    "    'min_samples_split': [2, 5, 10, 15, 20], \n",
    "    'min_samples_leaf': [1, 2, 4, 6, 8]\n",
    "}"
   ]
  },
  {
   "cell_type": "code",
   "execution_count": 65,
   "id": "59bf71cc-5ff6-4206-8f83-fef65e8ca393",
   "metadata": {},
   "outputs": [
    {
     "data": {
      "text/plain": [
       "{'n_estimators': 500,\n",
       " 'min_samples_split': 5,\n",
       " 'min_samples_leaf': 6,\n",
       " 'max_depth': 20}"
      ]
     },
     "execution_count": 65,
     "metadata": {},
     "output_type": "execute_result"
    }
   ],
   "source": [
    "grid_cv_RF_RS = RandomizedSearchCV(estimator=RandomForestRegressor(random_state=1),param_distributions=RF_grid,cv=5,n_jobs=-1,random_state=1)\n",
    "grid_cv_RF_RS.fit(X_train_M,y_train_M)\n",
    "grid_cv_RF_RS.best_params_"
   ]
  },
  {
   "cell_type": "code",
   "execution_count": 66,
   "id": "9ec266b1-16bf-4aa8-8049-12d3f89401a1",
   "metadata": {},
   "outputs": [],
   "source": [
    "xgb_grid = {\n",
    "    'n_estimators': [100, 200, 300, 400, 500, 600, 700, 800, 900, 1000],\n",
    "    'learning_rate': [0.01, 0.05, 0.1, 0.2], \n",
    "    'max_depth': [3, 5, 7, 10],\n",
    "    'subsample': [0.6, 0.8, 1.0, 1.2],\n",
    "}"
   ]
  },
  {
   "cell_type": "code",
   "execution_count": 67,
   "id": "b3cee674-3643-4b15-921e-34d0e7e0cdbc",
   "metadata": {},
   "outputs": [
    {
     "data": {
      "text/plain": [
       "{'subsample': 0.8, 'n_estimators': 400, 'max_depth': 3, 'learning_rate': 0.01}"
      ]
     },
     "execution_count": 67,
     "metadata": {},
     "output_type": "execute_result"
    }
   ],
   "source": [
    "grid_cv_xgb = RandomizedSearchCV(estimator=XGBRegressor(random_state=1),param_distributions=xgb_grid,cv=5,\n",
    "                                 n_jobs=-1,random_state=1,scoring='neg_mean_squared_error', n_iter=100)\n",
    "grid_cv_xgb.fit(X_train_M,y_train_M)\n",
    "grid_cv_xgb.best_params_"
   ]
  },
  {
   "cell_type": "markdown",
   "id": "6e61215c-8c8d-47f6-82ab-e124da4c54c0",
   "metadata": {},
   "source": [
    "# Testing "
   ]
  },
  {
   "cell_type": "code",
   "execution_count": 69,
   "id": "0ae952b0-9695-4973-89c2-6472582da128",
   "metadata": {},
   "outputs": [],
   "source": [
    "ya = y_test_M\n",
    "yp = model_xg.predict(X_test_M)\n",
    "diff = ya-yp"
   ]
  },
  {
   "cell_type": "code",
   "execution_count": 70,
   "id": "a1c3d3b8-1ec6-4105-9cc6-8d13060d990c",
   "metadata": {},
   "outputs": [],
   "source": [
    "P = pd.DataFrame({'Y_actual':ya, 'Y_predict':yp, 'Y_difference':diff})"
   ]
  },
  {
   "cell_type": "code",
   "execution_count": 71,
   "id": "8ab8406a-7ebb-4de7-970f-d0c720353e85",
   "metadata": {},
   "outputs": [
    {
     "data": {
      "text/html": [
       "<div>\n",
       "<style scoped>\n",
       "    .dataframe tbody tr th:only-of-type {\n",
       "        vertical-align: middle;\n",
       "    }\n",
       "\n",
       "    .dataframe tbody tr th {\n",
       "        vertical-align: top;\n",
       "    }\n",
       "\n",
       "    .dataframe thead th {\n",
       "        text-align: right;\n",
       "    }\n",
       "</style>\n",
       "<table border=\"1\" class=\"dataframe\">\n",
       "  <thead>\n",
       "    <tr style=\"text-align: right;\">\n",
       "      <th></th>\n",
       "      <th>Y_actual</th>\n",
       "      <th>Y_predict</th>\n",
       "      <th>Y_difference</th>\n",
       "    </tr>\n",
       "  </thead>\n",
       "  <tbody>\n",
       "    <tr>\n",
       "      <th>1264</th>\n",
       "      <td>10370.91255</td>\n",
       "      <td>11148.031250</td>\n",
       "      <td>-777.118700</td>\n",
       "    </tr>\n",
       "    <tr>\n",
       "      <th>326</th>\n",
       "      <td>3561.88890</td>\n",
       "      <td>5961.664062</td>\n",
       "      <td>-2399.775163</td>\n",
       "    </tr>\n",
       "    <tr>\n",
       "      <th>935</th>\n",
       "      <td>12233.82800</td>\n",
       "      <td>14346.020508</td>\n",
       "      <td>-2112.192508</td>\n",
       "    </tr>\n",
       "    <tr>\n",
       "      <th>1025</th>\n",
       "      <td>2020.17700</td>\n",
       "      <td>3124.161865</td>\n",
       "      <td>-1103.984865</td>\n",
       "    </tr>\n",
       "    <tr>\n",
       "      <th>1160</th>\n",
       "      <td>7727.25320</td>\n",
       "      <td>9325.541992</td>\n",
       "      <td>-1598.288792</td>\n",
       "    </tr>\n",
       "    <tr>\n",
       "      <th>768</th>\n",
       "      <td>14319.03100</td>\n",
       "      <td>14405.829102</td>\n",
       "      <td>-86.798102</td>\n",
       "    </tr>\n",
       "    <tr>\n",
       "      <th>121</th>\n",
       "      <td>1705.62450</td>\n",
       "      <td>3363.184814</td>\n",
       "      <td>-1657.560314</td>\n",
       "    </tr>\n",
       "    <tr>\n",
       "      <th>66</th>\n",
       "      <td>14235.07200</td>\n",
       "      <td>16963.017578</td>\n",
       "      <td>-2727.945578</td>\n",
       "    </tr>\n",
       "    <tr>\n",
       "      <th>781</th>\n",
       "      <td>1146.79660</td>\n",
       "      <td>2999.743408</td>\n",
       "      <td>-1852.946808</td>\n",
       "    </tr>\n",
       "    <tr>\n",
       "      <th>1129</th>\n",
       "      <td>1728.89700</td>\n",
       "      <td>2844.177002</td>\n",
       "      <td>-1115.280002</td>\n",
       "    </tr>\n",
       "  </tbody>\n",
       "</table>\n",
       "</div>"
      ],
      "text/plain": [
       "         Y_actual     Y_predict  Y_difference\n",
       "1264  10370.91255  11148.031250   -777.118700\n",
       "326    3561.88890   5961.664062  -2399.775163\n",
       "935   12233.82800  14346.020508  -2112.192508\n",
       "1025   2020.17700   3124.161865  -1103.984865\n",
       "1160   7727.25320   9325.541992  -1598.288792\n",
       "768   14319.03100  14405.829102    -86.798102\n",
       "121    1705.62450   3363.184814  -1657.560314\n",
       "66    14235.07200  16963.017578  -2727.945578\n",
       "781    1146.79660   2999.743408  -1852.946808\n",
       "1129   1728.89700   2844.177002  -1115.280002"
      ]
     },
     "execution_count": 71,
     "metadata": {},
     "output_type": "execute_result"
    }
   ],
   "source": [
    "P[:10]"
   ]
  },
  {
   "cell_type": "code",
   "execution_count": 72,
   "id": "35163d71-0dc0-442b-b988-09dc0eefd4f5",
   "metadata": {},
   "outputs": [
    {
     "data": {
      "text/plain": [
       "['sex_female',\n",
       " 'sex_male',\n",
       " 'smoker_no',\n",
       " 'smoker_yes',\n",
       " 'region_northeast',\n",
       " 'region_northwest',\n",
       " 'region_southeast',\n",
       " 'region_southwest',\n",
       " 'age',\n",
       " 'bmi',\n",
       " 'children']"
      ]
     },
     "execution_count": 72,
     "metadata": {},
     "output_type": "execute_result"
    }
   ],
   "source": [
    "sel_col"
   ]
  },
  {
   "cell_type": "code",
   "execution_count": 73,
   "id": "f82347b5-c019-4a31-9938-7313e6bd006e",
   "metadata": {},
   "outputs": [],
   "source": [
    "Q_e = [[1,0,1,0,1,0,0,0]]"
   ]
  },
  {
   "cell_type": "code",
   "execution_count": 74,
   "id": "06981bc1-5a63-456e-8068-8e27b0197617",
   "metadata": {},
   "outputs": [],
   "source": [
    "Q_s_1 = [[50,25,4]]"
   ]
  },
  {
   "cell_type": "code",
   "execution_count": 75,
   "id": "4cd0b0a5-a18d-44ac-86b9-88993f973854",
   "metadata": {},
   "outputs": [],
   "source": [
    "Q_s_2 = scaler.transform(Q_s_1)"
   ]
  },
  {
   "cell_type": "code",
   "execution_count": 76,
   "id": "c9259909-1920-4007-9235-5fcdef1a761d",
   "metadata": {},
   "outputs": [
    {
     "data": {
      "text/plain": [
       "array([[0.69565217, 0.24320689, 0.8       ]])"
      ]
     },
     "execution_count": 76,
     "metadata": {},
     "output_type": "execute_result"
    }
   ],
   "source": [
    "Q_s_2"
   ]
  },
  {
   "cell_type": "code",
   "execution_count": 77,
   "id": "cfe56c46-d244-47eb-88f3-256d251c3105",
   "metadata": {},
   "outputs": [],
   "source": [
    "Q = [[1,0,1,0,1,0,0,0,0.69565217, 0.24320689, 0.8]]"
   ]
  },
  {
   "cell_type": "code",
   "execution_count": 78,
   "id": "59143a73-506b-4402-8c02-34395bd915c8",
   "metadata": {},
   "outputs": [
    {
     "data": {
      "text/plain": [
       "array([11662.932], dtype=float32)"
      ]
     },
     "execution_count": 78,
     "metadata": {},
     "output_type": "execute_result"
    }
   ],
   "source": [
    "model_xg.predict(Q)"
   ]
  },
  {
   "cell_type": "code",
   "execution_count": 168,
   "id": "e4653314-8e11-4f25-bb3b-e68bad5a3562",
   "metadata": {},
   "outputs": [],
   "source": [
    "import pickle"
   ]
  },
  {
   "cell_type": "code",
   "execution_count": 170,
   "id": "8abf4bf1-69b6-4e77-bbc1-6fab40ccda9f",
   "metadata": {},
   "outputs": [],
   "source": [
    "pickle.dump(model_xg,open('model.pkl','wb'))\n",
    "pickle.dump(scaler,open('scaler.pkl','wb'))\n",
    "pickle.dump(encoder,open('encoder.pkl','wb'))"
   ]
  },
  {
   "cell_type": "code",
   "execution_count": null,
   "id": "43b00f1d-26db-4c9e-8d81-ff44f36c67ec",
   "metadata": {},
   "outputs": [],
   "source": []
  }
 ],
 "metadata": {
  "kernelspec": {
   "display_name": "Python [conda env:base] *",
   "language": "python",
   "name": "conda-base-py"
  },
  "language_info": {
   "codemirror_mode": {
    "name": "ipython",
    "version": 3
   },
   "file_extension": ".py",
   "mimetype": "text/x-python",
   "name": "python",
   "nbconvert_exporter": "python",
   "pygments_lexer": "ipython3",
   "version": "3.11.5"
  },
  "widgets": {
   "application/vnd.jupyter.widget-state+json": {
    "state": {},
    "version_major": 2,
    "version_minor": 0
   }
  }
 },
 "nbformat": 4,
 "nbformat_minor": 5
}
